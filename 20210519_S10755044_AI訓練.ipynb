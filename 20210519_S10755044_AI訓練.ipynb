{
  "nbformat": 4,
  "nbformat_minor": 0,
  "metadata": {
    "colab": {
      "name": "20210519-S10755044-AI訓練.ipynb",
      "provenance": [],
      "collapsed_sections": [],
      "authorship_tag": "ABX9TyP/NGTpeASLNV9WNW3TWNRF",
      "include_colab_link": true
    },
    "kernelspec": {
      "name": "python3",
      "display_name": "Python 3"
    },
    "language_info": {
      "name": "python"
    },
    "accelerator": "GPU"
  },
  "cells": [
    {
      "cell_type": "markdown",
      "metadata": {
        "id": "view-in-github",
        "colab_type": "text"
      },
      "source": [
        "<a href=\"https://colab.research.google.com/github/yuhsuan0103/10902-AI/blob/main/20210519_S10755044_AI%E8%A8%93%E7%B7%B4.ipynb\" target=\"_parent\"><img src=\"https://colab.research.google.com/assets/colab-badge.svg\" alt=\"Open In Colab\"/></a>"
      ]
    },
    {
      "cell_type": "code",
      "metadata": {
        "id": "9UGg2SEkM5GO"
      },
      "source": [
        "import tensorflow as tf"
      ],
      "execution_count": 37,
      "outputs": []
    },
    {
      "cell_type": "code",
      "metadata": {
        "colab": {
          "base_uri": "https://localhost:8080/",
          "height": 36
        },
        "id": "JvzqwRt7NZ2r",
        "outputId": "d55cfc5f-cabd-47f2-946b-06bbc8f547d9"
      },
      "source": [
        "tf.__version__"
      ],
      "execution_count": 39,
      "outputs": [
        {
          "output_type": "execute_result",
          "data": {
            "application/vnd.google.colaboratory.intrinsic+json": {
              "type": "string"
            },
            "text/plain": [
              "'2.4.1'"
            ]
          },
          "metadata": {
            "tags": []
          },
          "execution_count": 39
        }
      ]
    },
    {
      "cell_type": "code",
      "metadata": {
        "colab": {
          "base_uri": "https://localhost:8080/"
        },
        "id": "YvqloX_5NdtQ",
        "outputId": "733a5d2b-52d4-4cf6-ec51-3a0658444a13"
      },
      "source": [
        "print(\"Gpu Avaliable:\",tf.test.is_gpu_available())"
      ],
      "execution_count": 40,
      "outputs": [
        {
          "output_type": "stream",
          "text": [
            "Gpu Avaliable: True\n"
          ],
          "name": "stdout"
        }
      ]
    },
    {
      "cell_type": "code",
      "metadata": {
        "colab": {
          "base_uri": "https://localhost:8080/"
        },
        "id": "wUpxkbeiN0lY",
        "outputId": "646e4bc3-a7c7-47b9-e67b-de14e45216ba"
      },
      "source": [
        "!nvidia-smi"
      ],
      "execution_count": 41,
      "outputs": [
        {
          "output_type": "stream",
          "text": [
            "Wed May 19 12:11:52 2021       \n",
            "+-----------------------------------------------------------------------------+\n",
            "| NVIDIA-SMI 465.19.01    Driver Version: 460.32.03    CUDA Version: 11.2     |\n",
            "|-------------------------------+----------------------+----------------------+\n",
            "| GPU  Name        Persistence-M| Bus-Id        Disp.A | Volatile Uncorr. ECC |\n",
            "| Fan  Temp  Perf  Pwr:Usage/Cap|         Memory-Usage | GPU-Util  Compute M. |\n",
            "|                               |                      |               MIG M. |\n",
            "|===============================+======================+======================|\n",
            "|   0  Tesla T4            Off  | 00000000:00:04.0 Off |                    0 |\n",
            "| N/A   73C    P0    33W /  70W |    224MiB / 15109MiB |      0%      Default |\n",
            "|                               |                      |                  N/A |\n",
            "+-------------------------------+----------------------+----------------------+\n",
            "                                                                               \n",
            "+-----------------------------------------------------------------------------+\n",
            "| Processes:                                                                  |\n",
            "|  GPU   GI   CI        PID   Type   Process name                  GPU Memory |\n",
            "|        ID   ID                                                   Usage      |\n",
            "|=============================================================================|\n",
            "+-----------------------------------------------------------------------------+\n"
          ],
          "name": "stdout"
        }
      ]
    },
    {
      "cell_type": "code",
      "metadata": {
        "id": "X6Vbfp42ObnA"
      },
      "source": [
        "A = tf.constant([[1, 2], [3, 4]])\n",
        "B = tf.constant([[5, 6], [7, 8]])\n",
        "C = tf.matmul(A,B)"
      ],
      "execution_count": 42,
      "outputs": []
    },
    {
      "cell_type": "code",
      "metadata": {
        "colab": {
          "base_uri": "https://localhost:8080/"
        },
        "id": "_V-_kyx4OyFJ",
        "outputId": "f876af0a-45a8-49c7-d04e-d4ce25d729fe"
      },
      "source": [
        "print(C)"
      ],
      "execution_count": 43,
      "outputs": [
        {
          "output_type": "stream",
          "text": [
            "tf.Tensor(\n",
            "[[19 22]\n",
            " [43 50]], shape=(2, 2), dtype=int32)\n"
          ],
          "name": "stdout"
        }
      ]
    },
    {
      "cell_type": "code",
      "metadata": {
        "colab": {
          "base_uri": "https://localhost:8080/"
        },
        "id": "oGt6x_9xO0v5",
        "outputId": "889e1dca-f588-45e6-eb24-e3a1c5b877eb"
      },
      "source": [
        "(x_train, y_train), (x_test, y_test) = tf.keras.datasets.mnist.load_data()\n",
        "\n",
        "print('x_train = ' + str(x_train.shape))\n",
        "print('y_train = ' + str(y_train.shape))"
      ],
      "execution_count": 44,
      "outputs": [
        {
          "output_type": "stream",
          "text": [
            "x_train = (60000, 28, 28)\n",
            "y_train = (60000,)\n"
          ],
          "name": "stdout"
        }
      ]
    },
    {
      "cell_type": "code",
      "metadata": {
        "colab": {
          "base_uri": "https://localhost:8080/"
        },
        "id": "_fErYS04Pcqn",
        "outputId": "d682e1dc-c311-4f4d-c7f0-3f31d16e5ca0"
      },
      "source": [
        "def printMatrixE(a): #顯示單一圖片的每一點資料\n",
        "  rows = a.shape[0] #取得圖片的高度\n",
        "  cols = a.shape[1] #取得圖片的寬度\n",
        "  for i in range(0,rows): #處理每一列的每一點資料\n",
        "    str1=\"\"\n",
        "    for j in range(0,cols): #處理同一行的每點資料\n",
        "      str1=str1+(\"%3.0f\" %a[i, j]) #取得單點資料\n",
        "    print(str1) #輸出整排的數據資料\n",
        "  print(\"\")\n",
        "\n",
        "printMatrixE(x_train[0]) #顯示第0筆的圖(內容)\n",
        "print('y_train[0] =' +str(y_train[0])) #顯示第0筆的答案"
      ],
      "execution_count": 45,
      "outputs": [
        {
          "output_type": "stream",
          "text": [
            "  0  0  0  0  0  0  0  0  0  0  0  0  0  0  0  0  0  0  0  0  0  0  0  0  0  0  0  0\n",
            "  0  0  0  0  0  0  0  0  0  0  0  0  0  0  0  0  0  0  0  0  0  0  0  0  0  0  0  0\n",
            "  0  0  0  0  0  0  0  0  0  0  0  0  0  0  0  0  0  0  0  0  0  0  0  0  0  0  0  0\n",
            "  0  0  0  0  0  0  0  0  0  0  0  0  0  0  0  0  0  0  0  0  0  0  0  0  0  0  0  0\n",
            "  0  0  0  0  0  0  0  0  0  0  0  0  0  0  0  0  0  0  0  0  0  0  0  0  0  0  0  0\n",
            "  0  0  0  0  0  0  0  0  0  0  0  0  3 18 18 18126136175 26166255247127  0  0  0  0\n",
            "  0  0  0  0  0  0  0  0 30 36 94154170253253253253253225172253242195 64  0  0  0  0\n",
            "  0  0  0  0  0  0  0 49238253253253253253253253253251 93 82 82 56 39  0  0  0  0  0\n",
            "  0  0  0  0  0  0  0 18219253253253253253198182247241  0  0  0  0  0  0  0  0  0  0\n",
            "  0  0  0  0  0  0  0  0 80156107253253205 11  0 43154  0  0  0  0  0  0  0  0  0  0\n",
            "  0  0  0  0  0  0  0  0  0 14  1154253 90  0  0  0  0  0  0  0  0  0  0  0  0  0  0\n",
            "  0  0  0  0  0  0  0  0  0  0  0139253190  2  0  0  0  0  0  0  0  0  0  0  0  0  0\n",
            "  0  0  0  0  0  0  0  0  0  0  0 11190253 70  0  0  0  0  0  0  0  0  0  0  0  0  0\n",
            "  0  0  0  0  0  0  0  0  0  0  0  0 35241225160108  1  0  0  0  0  0  0  0  0  0  0\n",
            "  0  0  0  0  0  0  0  0  0  0  0  0  0 81240253253119 25  0  0  0  0  0  0  0  0  0\n",
            "  0  0  0  0  0  0  0  0  0  0  0  0  0  0 45186253253150 27  0  0  0  0  0  0  0  0\n",
            "  0  0  0  0  0  0  0  0  0  0  0  0  0  0  0 16 93252253187  0  0  0  0  0  0  0  0\n",
            "  0  0  0  0  0  0  0  0  0  0  0  0  0  0  0  0  0249253249 64  0  0  0  0  0  0  0\n",
            "  0  0  0  0  0  0  0  0  0  0  0  0  0  0 46130183253253207  2  0  0  0  0  0  0  0\n",
            "  0  0  0  0  0  0  0  0  0  0  0  0 39148229253253253250182  0  0  0  0  0  0  0  0\n",
            "  0  0  0  0  0  0  0  0  0  0 24114221253253253253201 78  0  0  0  0  0  0  0  0  0\n",
            "  0  0  0  0  0  0  0  0 23 66213253253253253198 81  2  0  0  0  0  0  0  0  0  0  0\n",
            "  0  0  0  0  0  0 18171219253253253253195 80  9  0  0  0  0  0  0  0  0  0  0  0  0\n",
            "  0  0  0  0 55172226253253253253244133 11  0  0  0  0  0  0  0  0  0  0  0  0  0  0\n",
            "  0  0  0  0136253253253212135132 16  0  0  0  0  0  0  0  0  0  0  0  0  0  0  0  0\n",
            "  0  0  0  0  0  0  0  0  0  0  0  0  0  0  0  0  0  0  0  0  0  0  0  0  0  0  0  0\n",
            "  0  0  0  0  0  0  0  0  0  0  0  0  0  0  0  0  0  0  0  0  0  0  0  0  0  0  0  0\n",
            "  0  0  0  0  0  0  0  0  0  0  0  0  0  0  0  0  0  0  0  0  0  0  0  0  0  0  0  0\n",
            "\n",
            "y_train[0] =5\n"
          ],
          "name": "stdout"
        }
      ]
    },
    {
      "cell_type": "code",
      "metadata": {
        "id": "GTIr_cOYQ5YS"
      },
      "source": [
        "import matplotlib.pyplot as plt #圖形顯示函式庫"
      ],
      "execution_count": 46,
      "outputs": []
    },
    {
      "cell_type": "code",
      "metadata": {
        "colab": {
          "base_uri": "https://localhost:8080/",
          "height": 281
        },
        "id": "huVPLxDwRHy4",
        "outputId": "cfad2087-9568-41b9-e6be-4bde9380f571"
      },
      "source": [
        "#顯示其中的圖形\n",
        "num=0 #顯示第num筆的圖(內容)\n",
        "plt.title('x_train[%d] Label: %d' %(num, y_train[num])) #第num筆及答案\n",
        "plt.imshow(x_train[num], cmap=plt.get_cmap('gray_r')) #用灰階的方法顯示該筆\n",
        "plt.show() #顯示圖片"
      ],
      "execution_count": 47,
      "outputs": [
        {
          "output_type": "display_data",
          "data": {
            "image/png": "[encoded data removed]",
            "text/plain": [
              "<Figure size 432x288 with 1 Axes>"
            ]
          },
          "metadata": {
            "tags": [],
            "needs_background": "light"
          }
        }
      ]
    },
    {
      "cell_type": "code",
      "metadata": {
        "colab": {
          "base_uri": "https://localhost:8080/"
        },
        "id": "9Hph255wSBtc",
        "outputId": "ab3fcb77-6fb3-4952-98d3-ce1c74dccc54"
      },
      "source": [
        "def printMatrixE(a): #顯示單一圖片的每一點資料\n",
        "  rows = a.shape[0] #取得圖片的高度\n",
        "  cols = a.shape[1] #取得圖片的寬度\n",
        "  for i in range(0,rows): #處理每一列的每一點資料\n",
        "    str1=\"\"\n",
        "    for j in range(0,cols): #處理同一行的每點資料\n",
        "      str1=str1+(\"%3.0f\" %a[i, j]) #取得單點資料\n",
        "    print(str1) #輸出整排的數據資料\n",
        "  print(\"\")\n",
        "\n",
        "printMatrixE(x_train[3]) #顯示第0筆的圖(內容)\n",
        "print('y_train[3] =' +str(y_train[3])) #顯示第0筆的答案"
      ],
      "execution_count": 48,
      "outputs": [
        {
          "output_type": "stream",
          "text": [
            "  0  0  0  0  0  0  0  0  0  0  0  0  0  0  0  0  0  0  0  0  0  0  0  0  0  0  0  0\n",
            "  0  0  0  0  0  0  0  0  0  0  0  0  0  0  0  0  0  0  0  0  0  0  0  0  0  0  0  0\n",
            "  0  0  0  0  0  0  0  0  0  0  0  0  0  0  0  0  0  0  0  0  0  0  0  0  0  0  0  0\n",
            "  0  0  0  0  0  0  0  0  0  0  0  0  0  0  0  0  0  0  0  0  0  0  0  0  0  0  0  0\n",
            "  0  0  0  0  0  0  0  0  0  0  0  0  0  0  0  0  0  0  0  0  0  0  0  0  0  0  0  0\n",
            "  0  0  0  0  0  0  0  0  0  0  0  0  0  0  0  0  0  0124253255 63  0  0  0  0  0  0\n",
            "  0  0  0  0  0  0  0  0  0  0  0  0  0  0  0  0  0 96244251253 62  0  0  0  0  0  0\n",
            "  0  0  0  0  0  0  0  0  0  0  0  0  0  0  0  0  0127251251253 62  0  0  0  0  0  0\n",
            "  0  0  0  0  0  0  0  0  0  0  0  0  0  0  0  0 68236251211 31  8  0  0  0  0  0  0\n",
            "  0  0  0  0  0  0  0  0  0  0  0  0  0  0  0 60228251251 94  0  0  0  0  0  0  0  0\n",
            "  0  0  0  0  0  0  0  0  0  0  0  0  0  0  0155253253189  0  0  0  0  0  0  0  0  0\n",
            "  0  0  0  0  0  0  0  0  0  0  0  0  0  0 20253251235 66  0  0  0  0  0  0  0  0  0\n",
            "  0  0  0  0  0  0  0  0  0  0  0  0  0 32205253251126  0  0  0  0  0  0  0  0  0  0\n",
            "  0  0  0  0  0  0  0  0  0  0  0  0  0104251253184 15  0  0  0  0  0  0  0  0  0  0\n",
            "  0  0  0  0  0  0  0  0  0  0  0  0 80240251193 23  0  0  0  0  0  0  0  0  0  0  0\n",
            "  0  0  0  0  0  0  0  0  0  0  0 32253253253159  0  0  0  0  0  0  0  0  0  0  0  0\n",
            "  0  0  0  0  0  0  0  0  0  0  0151251251251 39  0  0  0  0  0  0  0  0  0  0  0  0\n",
            "  0  0  0  0  0  0  0  0  0  0 48221251251172  0  0  0  0  0  0  0  0  0  0  0  0  0\n",
            "  0  0  0  0  0  0  0  0  0  0234251251196 12  0  0  0  0  0  0  0  0  0  0  0  0  0\n",
            "  0  0  0  0  0  0  0  0  0  0253251251 89  0  0  0  0  0  0  0  0  0  0  0  0  0  0\n",
            "  0  0  0  0  0  0  0  0  0159255253253 31  0  0  0  0  0  0  0  0  0  0  0  0  0  0\n",
            "  0  0  0  0  0  0  0  0 48228253247140  8  0  0  0  0  0  0  0  0  0  0  0  0  0  0\n",
            "  0  0  0  0  0  0  0  0 64251253220  0  0  0  0  0  0  0  0  0  0  0  0  0  0  0  0\n",
            "  0  0  0  0  0  0  0  0 64251253220  0  0  0  0  0  0  0  0  0  0  0  0  0  0  0  0\n",
            "  0  0  0  0  0  0  0  0 24193253220  0  0  0  0  0  0  0  0  0  0  0  0  0  0  0  0\n",
            "  0  0  0  0  0  0  0  0  0  0  0  0  0  0  0  0  0  0  0  0  0  0  0  0  0  0  0  0\n",
            "  0  0  0  0  0  0  0  0  0  0  0  0  0  0  0  0  0  0  0  0  0  0  0  0  0  0  0  0\n",
            "  0  0  0  0  0  0  0  0  0  0  0  0  0  0  0  0  0  0  0  0  0  0  0  0  0  0  0  0\n",
            "\n",
            "y_train[3] =1\n"
          ],
          "name": "stdout"
        }
      ]
    },
    {
      "cell_type": "code",
      "metadata": {
        "id": "pS1FvkN3Uvp_"
      },
      "source": [
        "import numpy as np"
      ],
      "execution_count": 49,
      "outputs": []
    },
    {
      "cell_type": "code",
      "metadata": {
        "colab": {
          "base_uri": "https://localhost:8080/",
          "height": 146
        },
        "id": "qe0cWt_bSdfv",
        "outputId": "814b8c32-cb37-42aa-c38d-62511e424c5b"
      },
      "source": [
        "def display_mult_flat(start, stop, label):\n",
        "  images = x_train[start].reshape([1,784]) #784=28*28將圖片變成一維陣列\n",
        "  for i in range(start+1,stop): #尋找\n",
        "    label2=int(y_train[i]) #取得該筆的答案\n",
        "    if label==label2: #判斷是否是我們要找的標籤\n",
        "      images = np.concatenate((images, x_train[i].reshape([1,28*28])))\n",
        "  plt.imshow(images, cmap=plt.get_cmap('gray_r')) #用灰階的方法繪製\n",
        "  plt.show() #顯示圖片\n",
        "display_mult_flat(0,2000,1) #0~2000,如果是1顯示出來"
      ],
      "execution_count": 50,
      "outputs": [
        {
          "output_type": "display_data",
          "data": {
            "image/png": "[encoded data removed]",
            "text/plain": [
              "<Figure size 432x288 with 1 Axes>"
            ]
          },
          "metadata": {
            "tags": [],
            "needs_background": "light"
          }
        }
      ]
    },
    {
      "cell_type": "code",
      "metadata": {
        "colab": {
          "base_uri": "https://localhost:8080/",
          "height": 254
        },
        "id": "LStYZh6jVb_v",
        "outputId": "4280f4cb-4f3b-4247-c572-13a8a9e64364"
      },
      "source": [
        "#顯示圖片2&3\n",
        "def display_mult_flat(start, stop, label):\n",
        "  images = x_train[start].reshape([1,784]) #784=28*28將圖片變成一維陣列\n",
        "  for i in range(start+1,stop): #尋找\n",
        "    label2=int(y_train[i]) #取得該筆的答案\n",
        "    if label==label2: #判斷是否是我們要找的標籤\n",
        "      images = np.concatenate((images, x_train[i].reshape([1,28*28])))\n",
        "  plt.imshow(images, cmap=plt.get_cmap('gray_r')) #用灰階的方法繪製\n",
        "  plt.show() #顯示圖片\n",
        "display_mult_flat(0,2000,2) #0~2000,如果是1顯示出來\n",
        "display_mult_flat(0,2000,3) #0~2000,如果是1顯示出來"
      ],
      "execution_count": 51,
      "outputs": [
        {
          "output_type": "display_data",
          "data": {
            "image/png": "[encoded data removed]",
            "text/plain": [
              "<Figure size 432x288 with 1 Axes>"
            ]
          },
          "metadata": {
            "tags": [],
            "needs_background": "light"
          }
        },
        {
          "output_type": "display_data",
          "data": {
            "image/png": "[encoded data removed]",
            "text/plain": [
              "<Figure size 432x288 with 1 Axes>"
            ]
          },
          "metadata": {
            "tags": [],
            "needs_background": "light"
          }
        }
      ]
    },
    {
      "cell_type": "code",
      "metadata": {
        "id": "t-F3rQGBVod-"
      },
      "source": [
        "from sklearn.datasets import  load_digits"
      ],
      "execution_count": 52,
      "outputs": []
    },
    {
      "cell_type": "code",
      "metadata": {
        "id": "mQTG3agkV3fm"
      },
      "source": [
        "#影像的類別數目\n",
        "num_classes = 10\n",
        "\n",
        "#輸入的手寫影像解析度\n",
        "img_rows, img_cols = 28, 28"
      ],
      "execution_count": 53,
      "outputs": []
    },
    {
      "cell_type": "code",
      "metadata": {
        "colab": {
          "base_uri": "https://localhost:8080/"
        },
        "id": "7AM9gDezWIgP",
        "outputId": "57f6ce2e-61e4-4a38-dfc4-69dd254e6184"
      },
      "source": [
        "print('x_train before reshape:', x_train.shape)\n",
        "#將原始資料轉為正確的影像排列方式，輸出(60000, 28 ,28)\n",
        "dim=img_rows*img_cols*1 #784=28*28\n",
        "x_train = x_train.reshape(x_train.shape[0], dim) #改變外型reshape\n",
        "x_test = x_test.reshape(x_test.shape[0], dim)\n",
        "print('x_train after reshape:', x_train.shape) #輸出(60000,784)"
      ],
      "execution_count": 54,
      "outputs": [
        {
          "output_type": "stream",
          "text": [
            "x_train before reshape: (60000, 28, 28)\n",
            "x_train after reshape: (60000, 784)\n"
          ],
          "name": "stdout"
        }
      ]
    },
    {
      "cell_type": "code",
      "metadata": {
        "colab": {
          "base_uri": "https://localhost:8080/"
        },
        "id": "BgeSCcJbXkdw",
        "outputId": "f9898564-a8b5-43c9-909a-4a35e3d21cab"
      },
      "source": [
        "#標準化輸入資料\n",
        "print('x_train before div 255:',x_train[0][180:195]) #處理前的部分數據\n",
        "x_train = x_train.astype('float32') #轉換為浮點數\n",
        "x_test = x_test.astype('float32')\n",
        "x_train /= 255 #特爭值增強度\n",
        "x_test /= 255\n",
        "print('x_train before div 255', x_train[0][180:195]) #處理後的部分數據"
      ],
      "execution_count": 56,
      "outputs": [
        {
          "output_type": "stream",
          "text": [
            "x_train before div 255: [0.6666667  0.99215686 0.99215686 0.99215686 0.99215686 0.99215686\n",
            " 0.88235295 0.6745098  0.99215686 0.9490196  0.7647059  0.2509804\n",
            " 0.         0.         0.        ]\n",
            "x_train before div 255 [0.00261438 0.00389081 0.00389081 0.00389081 0.00389081 0.00389081\n",
            " 0.00346021 0.00264514 0.00389081 0.00372165 0.00299885 0.00098424\n",
            " 0.         0.         0.        ]\n"
          ],
          "name": "stdout"
        }
      ]
    },
    {
      "cell_type": "code",
      "metadata": {
        "colab": {
          "base_uri": "https://localhost:8080/"
        },
        "id": "0QXFvfQRZucW",
        "outputId": "b52eb265-a238-493e-ee49-77edd3e04f4f"
      },
      "source": [
        "print('y_train', y_train.shape) #輸出(6000, )\n",
        "print(y_train[:10]) #前10個訓練樣本的標籤答案\n",
        "#將數字轉為one-hot 向量\n",
        "category=10\n",
        "y_train2 = tf.keras.utils.to_categorical(y_train, category) #轉換為二進制類矩陣\n",
        "y_test2 = tf.keras.utils.to_categorical(y_test, category)\n",
        "print(\"y_train2 to_categorical shape=\",y_train2.shape) #輸出(60000, 10)\n",
        "print(y_train2[:10]) #輸出前10筆"
      ],
      "execution_count": 57,
      "outputs": [
        {
          "output_type": "stream",
          "text": [
            "y_train (60000,)\n",
            "[5 0 4 1 9 2 1 3 1 4]\n",
            "y_train2 to_categorical shape= (60000, 10)\n",
            "[[0. 0. 0. 0. 0. 1. 0. 0. 0. 0.]\n",
            " [1. 0. 0. 0. 0. 0. 0. 0. 0. 0.]\n",
            " [0. 0. 0. 0. 1. 0. 0. 0. 0. 0.]\n",
            " [0. 1. 0. 0. 0. 0. 0. 0. 0. 0.]\n",
            " [0. 0. 0. 0. 0. 0. 0. 0. 0. 1.]\n",
            " [0. 0. 1. 0. 0. 0. 0. 0. 0. 0.]\n",
            " [0. 1. 0. 0. 0. 0. 0. 0. 0. 0.]\n",
            " [0. 0. 0. 1. 0. 0. 0. 0. 0. 0.]\n",
            " [0. 1. 0. 0. 0. 0. 0. 0. 0. 0.]\n",
            " [0. 0. 0. 0. 1. 0. 0. 0. 0. 0.]]\n"
          ],
          "name": "stdout"
        }
      ]
    },
    {
      "cell_type": "code",
      "metadata": {
        "id": "cy01j_T7dKAl",
        "colab": {
          "base_uri": "https://localhost:8080/"
        },
        "outputId": "27ce33c3-4528-4667-c9c5-cf539c768da0"
      },
      "source": [
        "#建立模型\n",
        "model = tf.keras.models.Sequential() #聲明順序層\n",
        "#定義「輸入層」加入模型，輸入層dim=784 是輸入資料大小\n",
        "\n",
        "#定義輸出「隱藏層」的神經元素數量\n",
        "model.add(tf.keras.layers.Dense(units=10, #10個神經元\n",
        "  activation=tf.nn.relu, #定義激勵函數為relu\n",
        "  input_dim=dim)) #784=28*28 輸入層訓練特徵值784個\n",
        "#隱藏層\n",
        "model.add(tf.keras.layers.Dense(units=10, #10個神經元\n",
        "  activation=tf.nn.relu)) #定義激勵函數為relu\n",
        "#輸出層\n",
        "model.add(tf.keras.layers.Dense(units=category,activation=tf.nn.softmax))\n",
        "model.compile(optimizer=tf.keras.optimizers.Adam(lr=0.001), #使用Adam移動0.001\n",
        "  loss = tf.keras.losses.categorical_crossentropy, #損失率使用稀疏分類交叉熵\n",
        "  metrics = ['accuracy']) #模型在培訓和測試期間要評估的度量列表\n",
        "\n",
        "#顯示模型\n",
        "model.summary()"
      ],
      "execution_count": 58,
      "outputs": [
        {
          "output_type": "stream",
          "text": [
            "Model: \"sequential_1\"\n",
            "_________________________________________________________________\n",
            "Layer (type)                 Output Shape              Param #   \n",
            "=================================================================\n",
            "dense_3 (Dense)              (None, 10)                7850      \n",
            "_________________________________________________________________\n",
            "dense_4 (Dense)              (None, 10)                110       \n",
            "_________________________________________________________________\n",
            "dense_5 (Dense)              (None, 10)                110       \n",
            "=================================================================\n",
            "Total params: 8,070\n",
            "Trainable params: 8,070\n",
            "Non-trainable params: 0\n",
            "_________________________________________________________________\n"
          ],
          "name": "stdout"
        }
      ]
    },
    {
      "cell_type": "code",
      "metadata": {
        "colab": {
          "base_uri": "https://localhost:8080/"
        },
        "id": "A0Iw_mQeg_mz",
        "outputId": "7c0fdf76-69a0-4afb-e9a5-bf15c9d7f5be"
      },
      "source": [
        "#訓練模型\n",
        "history=model.fit(x_train, y_train2, #進行訓練的因和果的資料\n",
        "      batch_size=1000,    #設定每次訓練的筆數\n",
        "      epochs=200,     #設定訓練的次數，也就是機器學習的次數\n",
        "      verbose=1)"
      ],
      "execution_count": 59,
      "outputs": [
        {
          "output_type": "stream",
          "text": [
            "Epoch 1/200\n",
            "60/60 [==============================] - 3s 3ms/step - loss: 2.3003 - accuracy: 0.1371\n",
            "Epoch 2/200\n",
            "60/60 [==============================] - 0s 3ms/step - loss: 2.2852 - accuracy: 0.2704\n",
            "Epoch 3/200\n",
            "60/60 [==============================] - 0s 3ms/step - loss: 2.2461 - accuracy: 0.3153\n",
            "Epoch 4/200\n",
            "60/60 [==============================] - 0s 3ms/step - loss: 2.1666 - accuracy: 0.3783\n",
            "Epoch 5/200\n",
            "60/60 [==============================] - 0s 3ms/step - loss: 2.0432 - accuracy: 0.3929\n",
            "Epoch 6/200\n",
            "60/60 [==============================] - 0s 3ms/step - loss: 1.8927 - accuracy: 0.3966\n",
            "Epoch 7/200\n",
            "60/60 [==============================] - 0s 3ms/step - loss: 1.7484 - accuracy: 0.3989\n",
            "Epoch 8/200\n",
            "60/60 [==============================] - 0s 3ms/step - loss: 1.6200 - accuracy: 0.4033\n",
            "Epoch 9/200\n",
            "60/60 [==============================] - 0s 3ms/step - loss: 1.5219 - accuracy: 0.4315\n",
            "Epoch 10/200\n",
            "60/60 [==============================] - 0s 3ms/step - loss: 1.4395 - accuracy: 0.4561\n",
            "Epoch 11/200\n",
            "60/60 [==============================] - 0s 3ms/step - loss: 1.3822 - accuracy: 0.4821\n",
            "Epoch 12/200\n",
            "60/60 [==============================] - 0s 3ms/step - loss: 1.3360 - accuracy: 0.4975\n",
            "Epoch 13/200\n",
            "60/60 [==============================] - 0s 3ms/step - loss: 1.2941 - accuracy: 0.5138\n",
            "Epoch 14/200\n",
            "60/60 [==============================] - 0s 3ms/step - loss: 1.2567 - accuracy: 0.5323\n",
            "Epoch 15/200\n",
            "60/60 [==============================] - 0s 3ms/step - loss: 1.2259 - accuracy: 0.5486\n",
            "Epoch 16/200\n",
            "60/60 [==============================] - 0s 3ms/step - loss: 1.1909 - accuracy: 0.5668\n",
            "Epoch 17/200\n",
            "60/60 [==============================] - 0s 3ms/step - loss: 1.1638 - accuracy: 0.5803\n",
            "Epoch 18/200\n",
            "60/60 [==============================] - 0s 3ms/step - loss: 1.1409 - accuracy: 0.5962\n",
            "Epoch 19/200\n",
            "60/60 [==============================] - 0s 3ms/step - loss: 1.1124 - accuracy: 0.6121\n",
            "Epoch 20/200\n",
            "60/60 [==============================] - 0s 3ms/step - loss: 1.0790 - accuracy: 0.6321\n",
            "Epoch 21/200\n",
            "60/60 [==============================] - 0s 3ms/step - loss: 1.0515 - accuracy: 0.6497\n",
            "Epoch 22/200\n",
            "60/60 [==============================] - 0s 3ms/step - loss: 1.0264 - accuracy: 0.6603\n",
            "Epoch 23/200\n",
            "60/60 [==============================] - 0s 3ms/step - loss: 1.0057 - accuracy: 0.6702\n",
            "Epoch 24/200\n",
            "60/60 [==============================] - 0s 3ms/step - loss: 0.9768 - accuracy: 0.6793\n",
            "Epoch 25/200\n",
            "60/60 [==============================] - 0s 3ms/step - loss: 0.9487 - accuracy: 0.6929\n",
            "Epoch 26/200\n",
            "60/60 [==============================] - 0s 3ms/step - loss: 0.9256 - accuracy: 0.6991\n",
            "Epoch 27/200\n",
            "60/60 [==============================] - 0s 4ms/step - loss: 0.8955 - accuracy: 0.7131\n",
            "Epoch 28/200\n",
            "60/60 [==============================] - 0s 3ms/step - loss: 0.8753 - accuracy: 0.7215\n",
            "Epoch 29/200\n",
            "60/60 [==============================] - 0s 3ms/step - loss: 0.8467 - accuracy: 0.7303\n",
            "Epoch 30/200\n",
            "60/60 [==============================] - 0s 3ms/step - loss: 0.8320 - accuracy: 0.7349\n",
            "Epoch 31/200\n",
            "60/60 [==============================] - 0s 3ms/step - loss: 0.8116 - accuracy: 0.7439\n",
            "Epoch 32/200\n",
            "60/60 [==============================] - 0s 3ms/step - loss: 0.7884 - accuracy: 0.7509\n",
            "Epoch 33/200\n",
            "60/60 [==============================] - 0s 3ms/step - loss: 0.7731 - accuracy: 0.7560\n",
            "Epoch 34/200\n",
            "60/60 [==============================] - 0s 3ms/step - loss: 0.7567 - accuracy: 0.7630\n",
            "Epoch 35/200\n",
            "60/60 [==============================] - 0s 3ms/step - loss: 0.7393 - accuracy: 0.7692\n",
            "Epoch 36/200\n",
            "60/60 [==============================] - 0s 3ms/step - loss: 0.7192 - accuracy: 0.7764\n",
            "Epoch 37/200\n",
            "60/60 [==============================] - 0s 3ms/step - loss: 0.6932 - accuracy: 0.7849\n",
            "Epoch 38/200\n",
            "60/60 [==============================] - 0s 3ms/step - loss: 0.6734 - accuracy: 0.7892\n",
            "Epoch 39/200\n",
            "60/60 [==============================] - 0s 3ms/step - loss: 0.6720 - accuracy: 0.7918\n",
            "Epoch 40/200\n",
            "60/60 [==============================] - 0s 3ms/step - loss: 0.6560 - accuracy: 0.7980\n",
            "Epoch 41/200\n",
            "60/60 [==============================] - 0s 3ms/step - loss: 0.6498 - accuracy: 0.7992\n",
            "Epoch 42/200\n",
            "60/60 [==============================] - 0s 3ms/step - loss: 0.6334 - accuracy: 0.8070\n",
            "Epoch 43/200\n",
            "60/60 [==============================] - 0s 3ms/step - loss: 0.6264 - accuracy: 0.8081\n",
            "Epoch 44/200\n",
            "60/60 [==============================] - 0s 3ms/step - loss: 0.6080 - accuracy: 0.8122\n",
            "Epoch 45/200\n",
            "60/60 [==============================] - 0s 3ms/step - loss: 0.6065 - accuracy: 0.8142\n",
            "Epoch 46/200\n",
            "60/60 [==============================] - 0s 3ms/step - loss: 0.5984 - accuracy: 0.8166\n",
            "Epoch 47/200\n",
            "60/60 [==============================] - 0s 3ms/step - loss: 0.5915 - accuracy: 0.8199\n",
            "Epoch 48/200\n",
            "60/60 [==============================] - 0s 3ms/step - loss: 0.5863 - accuracy: 0.8245\n",
            "Epoch 49/200\n",
            "60/60 [==============================] - 0s 3ms/step - loss: 0.5809 - accuracy: 0.8228\n",
            "Epoch 50/200\n",
            "60/60 [==============================] - 0s 3ms/step - loss: 0.5717 - accuracy: 0.8273\n",
            "Epoch 51/200\n",
            "60/60 [==============================] - 0s 3ms/step - loss: 0.5697 - accuracy: 0.8300\n",
            "Epoch 52/200\n",
            "60/60 [==============================] - 0s 3ms/step - loss: 0.5606 - accuracy: 0.8308\n",
            "Epoch 53/200\n",
            "60/60 [==============================] - 0s 4ms/step - loss: 0.5473 - accuracy: 0.8354\n",
            "Epoch 54/200\n",
            "60/60 [==============================] - 0s 3ms/step - loss: 0.5496 - accuracy: 0.8349\n",
            "Epoch 55/200\n",
            "60/60 [==============================] - 0s 3ms/step - loss: 0.5397 - accuracy: 0.8378\n",
            "Epoch 56/200\n",
            "60/60 [==============================] - 0s 3ms/step - loss: 0.5407 - accuracy: 0.8379\n",
            "Epoch 57/200\n",
            "60/60 [==============================] - 0s 3ms/step - loss: 0.5300 - accuracy: 0.8395\n",
            "Epoch 58/200\n",
            "60/60 [==============================] - 0s 3ms/step - loss: 0.5306 - accuracy: 0.8398\n",
            "Epoch 59/200\n",
            "60/60 [==============================] - 0s 3ms/step - loss: 0.5202 - accuracy: 0.8433\n",
            "Epoch 60/200\n",
            "60/60 [==============================] - 0s 3ms/step - loss: 0.5199 - accuracy: 0.8453\n",
            "Epoch 61/200\n",
            "60/60 [==============================] - 0s 3ms/step - loss: 0.5149 - accuracy: 0.8459\n",
            "Epoch 62/200\n",
            "60/60 [==============================] - 0s 3ms/step - loss: 0.5089 - accuracy: 0.8469\n",
            "Epoch 63/200\n",
            "60/60 [==============================] - 0s 4ms/step - loss: 0.5058 - accuracy: 0.8491\n",
            "Epoch 64/200\n",
            "60/60 [==============================] - 0s 3ms/step - loss: 0.5028 - accuracy: 0.8500\n",
            "Epoch 65/200\n",
            "60/60 [==============================] - 0s 3ms/step - loss: 0.5054 - accuracy: 0.8507\n",
            "Epoch 66/200\n",
            "60/60 [==============================] - 0s 3ms/step - loss: 0.5032 - accuracy: 0.8505\n",
            "Epoch 67/200\n",
            "60/60 [==============================] - 0s 4ms/step - loss: 0.4959 - accuracy: 0.8529\n",
            "Epoch 68/200\n",
            "60/60 [==============================] - 0s 3ms/step - loss: 0.4951 - accuracy: 0.8527\n",
            "Epoch 69/200\n",
            "60/60 [==============================] - 0s 3ms/step - loss: 0.4962 - accuracy: 0.8518\n",
            "Epoch 70/200\n",
            "60/60 [==============================] - 0s 3ms/step - loss: 0.4891 - accuracy: 0.8554\n",
            "Epoch 71/200\n",
            "60/60 [==============================] - 0s 3ms/step - loss: 0.4921 - accuracy: 0.8539\n",
            "Epoch 72/200\n",
            "60/60 [==============================] - 0s 3ms/step - loss: 0.4831 - accuracy: 0.8560\n",
            "Epoch 73/200\n",
            "60/60 [==============================] - 0s 3ms/step - loss: 0.4870 - accuracy: 0.8559\n",
            "Epoch 74/200\n",
            "60/60 [==============================] - 0s 3ms/step - loss: 0.4846 - accuracy: 0.8572\n",
            "Epoch 75/200\n",
            "60/60 [==============================] - 0s 3ms/step - loss: 0.4767 - accuracy: 0.8591\n",
            "Epoch 76/200\n",
            "60/60 [==============================] - 0s 3ms/step - loss: 0.4787 - accuracy: 0.8589\n",
            "Epoch 77/200\n",
            "60/60 [==============================] - 0s 3ms/step - loss: 0.4707 - accuracy: 0.8613\n",
            "Epoch 78/200\n",
            "60/60 [==============================] - 0s 3ms/step - loss: 0.4717 - accuracy: 0.8617\n",
            "Epoch 79/200\n",
            "60/60 [==============================] - 0s 3ms/step - loss: 0.4706 - accuracy: 0.8622\n",
            "Epoch 80/200\n",
            "60/60 [==============================] - 0s 3ms/step - loss: 0.4621 - accuracy: 0.8636\n",
            "Epoch 81/200\n",
            "60/60 [==============================] - 0s 3ms/step - loss: 0.4629 - accuracy: 0.8632\n",
            "Epoch 82/200\n",
            "60/60 [==============================] - 0s 4ms/step - loss: 0.4635 - accuracy: 0.8645\n",
            "Epoch 83/200\n",
            "60/60 [==============================] - 0s 3ms/step - loss: 0.4659 - accuracy: 0.8643\n",
            "Epoch 84/200\n",
            "60/60 [==============================] - 0s 3ms/step - loss: 0.4587 - accuracy: 0.8648\n",
            "Epoch 85/200\n",
            "60/60 [==============================] - 0s 3ms/step - loss: 0.4553 - accuracy: 0.8679\n",
            "Epoch 86/200\n",
            "60/60 [==============================] - 0s 3ms/step - loss: 0.4429 - accuracy: 0.8694\n",
            "Epoch 87/200\n",
            "60/60 [==============================] - 0s 3ms/step - loss: 0.4544 - accuracy: 0.8697\n",
            "Epoch 88/200\n",
            "60/60 [==============================] - 0s 3ms/step - loss: 0.4535 - accuracy: 0.8681\n",
            "Epoch 89/200\n",
            "60/60 [==============================] - 0s 3ms/step - loss: 0.4484 - accuracy: 0.8677\n",
            "Epoch 90/200\n",
            "60/60 [==============================] - 0s 3ms/step - loss: 0.4474 - accuracy: 0.8678\n",
            "Epoch 91/200\n",
            "60/60 [==============================] - 0s 3ms/step - loss: 0.4529 - accuracy: 0.8669\n",
            "Epoch 92/200\n",
            "60/60 [==============================] - 0s 3ms/step - loss: 0.4458 - accuracy: 0.8701\n",
            "Epoch 93/200\n",
            "60/60 [==============================] - 0s 3ms/step - loss: 0.4455 - accuracy: 0.8697\n",
            "Epoch 94/200\n",
            "60/60 [==============================] - 0s 3ms/step - loss: 0.4453 - accuracy: 0.8708\n",
            "Epoch 95/200\n",
            "60/60 [==============================] - 0s 3ms/step - loss: 0.4344 - accuracy: 0.8731\n",
            "Epoch 96/200\n",
            "60/60 [==============================] - 0s 3ms/step - loss: 0.4407 - accuracy: 0.8725\n",
            "Epoch 97/200\n",
            "60/60 [==============================] - 0s 3ms/step - loss: 0.4408 - accuracy: 0.8723\n",
            "Epoch 98/200\n",
            "60/60 [==============================] - 0s 3ms/step - loss: 0.4387 - accuracy: 0.8720\n",
            "Epoch 99/200\n",
            "60/60 [==============================] - 0s 3ms/step - loss: 0.4389 - accuracy: 0.8721\n",
            "Epoch 100/200\n",
            "60/60 [==============================] - 0s 3ms/step - loss: 0.4314 - accuracy: 0.8745\n",
            "Epoch 101/200\n",
            "60/60 [==============================] - 0s 3ms/step - loss: 0.4330 - accuracy: 0.8742\n",
            "Epoch 102/200\n",
            "60/60 [==============================] - 0s 3ms/step - loss: 0.4305 - accuracy: 0.8726\n",
            "Epoch 103/200\n",
            "60/60 [==============================] - 0s 3ms/step - loss: 0.4345 - accuracy: 0.8731\n",
            "Epoch 104/200\n",
            "60/60 [==============================] - 0s 3ms/step - loss: 0.4220 - accuracy: 0.8751\n",
            "Epoch 105/200\n",
            "60/60 [==============================] - 0s 3ms/step - loss: 0.4260 - accuracy: 0.8758\n",
            "Epoch 106/200\n",
            "60/60 [==============================] - 0s 3ms/step - loss: 0.4215 - accuracy: 0.8774\n",
            "Epoch 107/200\n",
            "60/60 [==============================] - 0s 4ms/step - loss: 0.4158 - accuracy: 0.8782\n",
            "Epoch 108/200\n",
            "60/60 [==============================] - 0s 3ms/step - loss: 0.4164 - accuracy: 0.8788\n",
            "Epoch 109/200\n",
            "60/60 [==============================] - 0s 3ms/step - loss: 0.4166 - accuracy: 0.8793\n",
            "Epoch 110/200\n",
            "60/60 [==============================] - 0s 3ms/step - loss: 0.4191 - accuracy: 0.8773\n",
            "Epoch 111/200\n",
            "60/60 [==============================] - 0s 3ms/step - loss: 0.4130 - accuracy: 0.8804\n",
            "Epoch 112/200\n",
            "60/60 [==============================] - 0s 4ms/step - loss: 0.4095 - accuracy: 0.8818\n",
            "Epoch 113/200\n",
            "60/60 [==============================] - 0s 4ms/step - loss: 0.4108 - accuracy: 0.8801\n",
            "Epoch 114/200\n",
            "60/60 [==============================] - 0s 3ms/step - loss: 0.4183 - accuracy: 0.8786\n",
            "Epoch 115/200\n",
            "60/60 [==============================] - 0s 3ms/step - loss: 0.4113 - accuracy: 0.8814\n",
            "Epoch 116/200\n",
            "60/60 [==============================] - 0s 4ms/step - loss: 0.4094 - accuracy: 0.8827\n",
            "Epoch 117/200\n",
            "60/60 [==============================] - 0s 3ms/step - loss: 0.4035 - accuracy: 0.8838\n",
            "Epoch 118/200\n",
            "60/60 [==============================] - 0s 3ms/step - loss: 0.4074 - accuracy: 0.8814\n",
            "Epoch 119/200\n",
            "60/60 [==============================] - 0s 3ms/step - loss: 0.4112 - accuracy: 0.8805\n",
            "Epoch 120/200\n",
            "60/60 [==============================] - 0s 3ms/step - loss: 0.4071 - accuracy: 0.8822\n",
            "Epoch 121/200\n",
            "60/60 [==============================] - 0s 3ms/step - loss: 0.3986 - accuracy: 0.8858\n",
            "Epoch 122/200\n",
            "60/60 [==============================] - 0s 3ms/step - loss: 0.3919 - accuracy: 0.8863\n",
            "Epoch 123/200\n",
            "60/60 [==============================] - 0s 3ms/step - loss: 0.4009 - accuracy: 0.8829\n",
            "Epoch 124/200\n",
            "60/60 [==============================] - 0s 3ms/step - loss: 0.3953 - accuracy: 0.8859\n",
            "Epoch 125/200\n",
            "60/60 [==============================] - 0s 3ms/step - loss: 0.3964 - accuracy: 0.8863\n",
            "Epoch 126/200\n",
            "60/60 [==============================] - 0s 3ms/step - loss: 0.3923 - accuracy: 0.8861\n",
            "Epoch 127/200\n",
            "60/60 [==============================] - 0s 3ms/step - loss: 0.3949 - accuracy: 0.8867\n",
            "Epoch 128/200\n",
            "60/60 [==============================] - 0s 3ms/step - loss: 0.3893 - accuracy: 0.8885\n",
            "Epoch 129/200\n",
            "60/60 [==============================] - 0s 3ms/step - loss: 0.3870 - accuracy: 0.8882\n",
            "Epoch 130/200\n",
            "60/60 [==============================] - 0s 3ms/step - loss: 0.3818 - accuracy: 0.8896\n",
            "Epoch 131/200\n",
            "60/60 [==============================] - 0s 3ms/step - loss: 0.3814 - accuracy: 0.8898\n",
            "Epoch 132/200\n",
            "60/60 [==============================] - 0s 3ms/step - loss: 0.3843 - accuracy: 0.8891\n",
            "Epoch 133/200\n",
            "60/60 [==============================] - 0s 3ms/step - loss: 0.3825 - accuracy: 0.8906\n",
            "Epoch 134/200\n",
            "60/60 [==============================] - 0s 3ms/step - loss: 0.3802 - accuracy: 0.8905\n",
            "Epoch 135/200\n",
            "60/60 [==============================] - 0s 3ms/step - loss: 0.3779 - accuracy: 0.8908\n",
            "Epoch 136/200\n",
            "60/60 [==============================] - 0s 3ms/step - loss: 0.3736 - accuracy: 0.8929\n",
            "Epoch 137/200\n",
            "60/60 [==============================] - 0s 4ms/step - loss: 0.3850 - accuracy: 0.8892\n",
            "Epoch 138/200\n",
            "60/60 [==============================] - 0s 3ms/step - loss: 0.3815 - accuracy: 0.8898\n",
            "Epoch 139/200\n",
            "60/60 [==============================] - 0s 3ms/step - loss: 0.3725 - accuracy: 0.8938\n",
            "Epoch 140/200\n",
            "60/60 [==============================] - 0s 3ms/step - loss: 0.3772 - accuracy: 0.8923\n",
            "Epoch 141/200\n",
            "60/60 [==============================] - 0s 4ms/step - loss: 0.3732 - accuracy: 0.8929\n",
            "Epoch 142/200\n",
            "60/60 [==============================] - 0s 3ms/step - loss: 0.3676 - accuracy: 0.8939\n",
            "Epoch 143/200\n",
            "60/60 [==============================] - 0s 3ms/step - loss: 0.3636 - accuracy: 0.8961\n",
            "Epoch 144/200\n",
            "60/60 [==============================] - 0s 3ms/step - loss: 0.3678 - accuracy: 0.8950\n",
            "Epoch 145/200\n",
            "60/60 [==============================] - 0s 4ms/step - loss: 0.3724 - accuracy: 0.8937\n",
            "Epoch 146/200\n",
            "60/60 [==============================] - 0s 4ms/step - loss: 0.3669 - accuracy: 0.8935\n",
            "Epoch 147/200\n",
            "60/60 [==============================] - 0s 3ms/step - loss: 0.3687 - accuracy: 0.8944\n",
            "Epoch 148/200\n",
            "60/60 [==============================] - 0s 3ms/step - loss: 0.3665 - accuracy: 0.8944\n",
            "Epoch 149/200\n",
            "60/60 [==============================] - 0s 3ms/step - loss: 0.3583 - accuracy: 0.8973\n",
            "Epoch 150/200\n",
            "60/60 [==============================] - 0s 3ms/step - loss: 0.3639 - accuracy: 0.8952\n",
            "Epoch 151/200\n",
            "60/60 [==============================] - 0s 3ms/step - loss: 0.3622 - accuracy: 0.8963\n",
            "Epoch 152/200\n",
            "60/60 [==============================] - 0s 3ms/step - loss: 0.3575 - accuracy: 0.8980\n",
            "Epoch 153/200\n",
            "60/60 [==============================] - 0s 3ms/step - loss: 0.3574 - accuracy: 0.8974\n",
            "Epoch 154/200\n",
            "60/60 [==============================] - 0s 4ms/step - loss: 0.3538 - accuracy: 0.8980\n",
            "Epoch 155/200\n",
            "60/60 [==============================] - 0s 3ms/step - loss: 0.3543 - accuracy: 0.8996\n",
            "Epoch 156/200\n",
            "60/60 [==============================] - 0s 3ms/step - loss: 0.3554 - accuracy: 0.8974\n",
            "Epoch 157/200\n",
            "60/60 [==============================] - 0s 3ms/step - loss: 0.3569 - accuracy: 0.8996\n",
            "Epoch 158/200\n",
            "60/60 [==============================] - 0s 3ms/step - loss: 0.3520 - accuracy: 0.8998\n",
            "Epoch 159/200\n",
            "60/60 [==============================] - 0s 3ms/step - loss: 0.3483 - accuracy: 0.8997\n",
            "Epoch 160/200\n",
            "60/60 [==============================] - 0s 4ms/step - loss: 0.3493 - accuracy: 0.8994\n",
            "Epoch 161/200\n",
            "60/60 [==============================] - 0s 3ms/step - loss: 0.3509 - accuracy: 0.8998\n",
            "Epoch 162/200\n",
            "60/60 [==============================] - 0s 3ms/step - loss: 0.3376 - accuracy: 0.9008\n",
            "Epoch 163/200\n",
            "60/60 [==============================] - 0s 4ms/step - loss: 0.3449 - accuracy: 0.9006\n",
            "Epoch 164/200\n",
            "60/60 [==============================] - 0s 3ms/step - loss: 0.3447 - accuracy: 0.8999\n",
            "Epoch 165/200\n",
            "60/60 [==============================] - 0s 4ms/step - loss: 0.3410 - accuracy: 0.9031\n",
            "Epoch 166/200\n",
            "60/60 [==============================] - 0s 3ms/step - loss: 0.3458 - accuracy: 0.8999\n",
            "Epoch 167/200\n",
            "60/60 [==============================] - 0s 3ms/step - loss: 0.3330 - accuracy: 0.9041\n",
            "Epoch 168/200\n",
            "60/60 [==============================] - 0s 4ms/step - loss: 0.3359 - accuracy: 0.9028\n",
            "Epoch 169/200\n",
            "60/60 [==============================] - 0s 3ms/step - loss: 0.3393 - accuracy: 0.9001\n",
            "Epoch 170/200\n",
            "60/60 [==============================] - 0s 3ms/step - loss: 0.3355 - accuracy: 0.9021\n",
            "Epoch 171/200\n",
            "60/60 [==============================] - 0s 3ms/step - loss: 0.3384 - accuracy: 0.9015\n",
            "Epoch 172/200\n",
            "60/60 [==============================] - 0s 3ms/step - loss: 0.3371 - accuracy: 0.9027\n",
            "Epoch 173/200\n",
            "60/60 [==============================] - 0s 3ms/step - loss: 0.3367 - accuracy: 0.9037\n",
            "Epoch 174/200\n",
            "60/60 [==============================] - 0s 4ms/step - loss: 0.3255 - accuracy: 0.9045\n",
            "Epoch 175/200\n",
            "60/60 [==============================] - 0s 3ms/step - loss: 0.3360 - accuracy: 0.9051\n",
            "Epoch 176/200\n",
            "60/60 [==============================] - 0s 3ms/step - loss: 0.3308 - accuracy: 0.9044\n",
            "Epoch 177/200\n",
            "60/60 [==============================] - 0s 3ms/step - loss: 0.3266 - accuracy: 0.9058\n",
            "Epoch 178/200\n",
            "60/60 [==============================] - 0s 3ms/step - loss: 0.3236 - accuracy: 0.9074\n",
            "Epoch 179/200\n",
            "60/60 [==============================] - 0s 4ms/step - loss: 0.3219 - accuracy: 0.9071\n",
            "Epoch 180/200\n",
            "60/60 [==============================] - 0s 3ms/step - loss: 0.3306 - accuracy: 0.9058\n",
            "Epoch 181/200\n",
            "60/60 [==============================] - 0s 4ms/step - loss: 0.3221 - accuracy: 0.9064\n",
            "Epoch 182/200\n",
            "60/60 [==============================] - 0s 3ms/step - loss: 0.3257 - accuracy: 0.9067\n",
            "Epoch 183/200\n",
            "60/60 [==============================] - 0s 4ms/step - loss: 0.3168 - accuracy: 0.9092\n",
            "Epoch 184/200\n",
            "60/60 [==============================] - 0s 3ms/step - loss: 0.3249 - accuracy: 0.9058\n",
            "Epoch 185/200\n",
            "60/60 [==============================] - 0s 3ms/step - loss: 0.3233 - accuracy: 0.9073\n",
            "Epoch 186/200\n",
            "60/60 [==============================] - 0s 3ms/step - loss: 0.3208 - accuracy: 0.9088\n",
            "Epoch 187/200\n",
            "60/60 [==============================] - 0s 3ms/step - loss: 0.3254 - accuracy: 0.9074\n",
            "Epoch 188/200\n",
            "60/60 [==============================] - 0s 4ms/step - loss: 0.3154 - accuracy: 0.9089\n",
            "Epoch 189/200\n",
            "60/60 [==============================] - 0s 3ms/step - loss: 0.3141 - accuracy: 0.9110\n",
            "Epoch 190/200\n",
            "60/60 [==============================] - 0s 4ms/step - loss: 0.3074 - accuracy: 0.9116\n",
            "Epoch 191/200\n",
            "60/60 [==============================] - 0s 3ms/step - loss: 0.3100 - accuracy: 0.9104\n",
            "Epoch 192/200\n",
            "60/60 [==============================] - 0s 4ms/step - loss: 0.3066 - accuracy: 0.9120\n",
            "Epoch 193/200\n",
            "60/60 [==============================] - 0s 4ms/step - loss: 0.3184 - accuracy: 0.9092\n",
            "Epoch 194/200\n",
            "60/60 [==============================] - 0s 3ms/step - loss: 0.3112 - accuracy: 0.9103\n",
            "Epoch 195/200\n",
            "60/60 [==============================] - 0s 3ms/step - loss: 0.3075 - accuracy: 0.9110\n",
            "Epoch 196/200\n",
            "60/60 [==============================] - 0s 3ms/step - loss: 0.3078 - accuracy: 0.9127\n",
            "Epoch 197/200\n",
            "60/60 [==============================] - 0s 4ms/step - loss: 0.3088 - accuracy: 0.9119\n",
            "Epoch 198/200\n",
            "60/60 [==============================] - 0s 3ms/step - loss: 0.3015 - accuracy: 0.9139\n",
            "Epoch 199/200\n",
            "60/60 [==============================] - 0s 3ms/step - loss: 0.2997 - accuracy: 0.9137\n",
            "Epoch 200/200\n",
            "60/60 [==============================] - 0s 3ms/step - loss: 0.3030 - accuracy: 0.9131\n"
          ],
          "name": "stdout"
        }
      ]
    },
    {
      "cell_type": "code",
      "metadata": {
        "colab": {
          "base_uri": "https://localhost:8080/"
        },
        "id": "zH-x57qOi8oD",
        "outputId": "6b13fb3d-2ded-4dd8-d47f-1bc0d1d4e699"
      },
      "source": [
        "#測試\n",
        "score = model.evaluate(x_test, y_test2, batch_size=128) #計算測試正確率\n",
        "print(\"socre:\",score) #輸出測試正確率\n",
        "predict = model.predict(x_test) #取得每一個結果的機率\n",
        "print(\"Ans:\",np.argmax(predict[0]),np.argmax(predict[1]),np.argmax(predict[2]),np.argmax(predict[3])) #取得預測答案1\n",
        "predict2 = model.predict_classes(x_test[:10]) #取得預測答案2\n",
        "print(\"predict_classes:\",predict2[:10]) #輸出預測答案2\n",
        "print(\"y_test\",y_test[:10])"
      ],
      "execution_count": 60,
      "outputs": [
        {
          "output_type": "stream",
          "text": [
            "79/79 [==============================] - 0s 2ms/step - loss: 0.3161 - accuracy: 0.9104\n",
            "socre: [0.31609779596328735, 0.9103999733924866]\n",
            "Ans: 7 2 1 0\n",
            "predict_classes: [7 2 1 0 4 1 4 9 6 9]\n",
            "y_test [7 2 1 0 4 1 4 9 5 9]\n"
          ],
          "name": "stdout"
        },
        {
          "output_type": "stream",
          "text": [
            "/usr/local/lib/python3.7/dist-packages/tensorflow/python/keras/engine/sequential.py:450: UserWarning: `model.predict_classes()` is deprecated and will be removed after 2021-01-01. Please use instead:* `np.argmax(model.predict(x), axis=-1)`,   if your model does multi-class classification   (e.g. if it uses a `softmax` last-layer activation).* `(model.predict(x) > 0.5).astype(\"int32\")`,   if your model does binary classification   (e.g. if it uses a `sigmoid` last-layer activation).\n",
            "  warnings.warn('`model.predict_classes()` is deprecated and '\n"
          ],
          "name": "stderr"
        }
      ]
    }
  ]
}